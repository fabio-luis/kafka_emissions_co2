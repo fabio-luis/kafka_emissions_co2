{
 "cells": [
  {
   "cell_type": "code",
   "execution_count": 1,
   "id": "d3374d88",
   "metadata": {},
   "outputs": [],
   "source": [
    "#Importando as bibliotecas\n",
    "from kafka import KafkaConsumer\n",
    "import json\n",
    "from json import loads\n",
    "import pandas as pd\n",
    "from pandas.io.json import json_normalize\n",
    "import matplotlib.pyplot as plt"
   ]
  },
  {
   "cell_type": "code",
   "execution_count": 2,
   "id": "dc2ccc16",
   "metadata": {},
   "outputs": [],
   "source": [
    "#Consuma todas as mensagens do tópico, mas não marque como 'lidas' (enable_auto_commit=False)\n",
    "#para que possamos relê-los quantas vezes quisermos.\n",
    "consumer = KafkaConsumer('Trabalho_Infnet',\n",
    "                         group_id = 'Infnet-consumer-group',\n",
    "                         bootstrap_servers=['localhost:9092'],\n",
    "                         value_deserializer=lambda m: json.loads(m.decode('utf-8')),\n",
    "                         auto_offset_reset ='earliest',\n",
    "                         enable_auto_commit=False,\n",
    "                         consumer_timeout_ms = 1000\n",
    "                         )"
   ]
  },
  {
   "cell_type": "code",
   "execution_count": 3,
   "id": "e6edf18c",
   "metadata": {},
   "outputs": [],
   "source": [
    "#Concatenar todas as linhas, normalizando o json\n",
    "lista = []\n",
    "\n",
    "for message in consumer:\n",
    "    global combined\n",
    "    data = pd.json_normalize(message.value)\n",
    "    lista.append(data)\n",
    "    \n",
    "Conjunto = pd.concat(lista)"
   ]
  },
  {
   "cell_type": "code",
   "execution_count": 4,
   "id": "5d703221",
   "metadata": {},
   "outputs": [
    {
     "data": {
      "text/html": [
       "<div>\n",
       "<style scoped>\n",
       "    .dataframe tbody tr th:only-of-type {\n",
       "        vertical-align: middle;\n",
       "    }\n",
       "\n",
       "    .dataframe tbody tr th {\n",
       "        vertical-align: top;\n",
       "    }\n",
       "\n",
       "    .dataframe thead th {\n",
       "        text-align: right;\n",
       "    }\n",
       "</style>\n",
       "<table border=\"1\" class=\"dataframe\">\n",
       "  <thead>\n",
       "    <tr style=\"text-align: right;\">\n",
       "      <th></th>\n",
       "      <th>country_code</th>\n",
       "      <th>country_name</th>\n",
       "      <th>year</th>\n",
       "      <th>value</th>\n",
       "    </tr>\n",
       "  </thead>\n",
       "  <tbody>\n",
       "    <tr>\n",
       "      <th>0</th>\n",
       "      <td>ABW</td>\n",
       "      <td>Aruba</td>\n",
       "      <td>1960</td>\n",
       "      <td>11092.675</td>\n",
       "    </tr>\n",
       "    <tr>\n",
       "      <th>0</th>\n",
       "      <td>ABW</td>\n",
       "      <td>Aruba</td>\n",
       "      <td>1961</td>\n",
       "      <td>11576.719</td>\n",
       "    </tr>\n",
       "    <tr>\n",
       "      <th>0</th>\n",
       "      <td>ABW</td>\n",
       "      <td>Aruba</td>\n",
       "      <td>1962</td>\n",
       "      <td>12713.489</td>\n",
       "    </tr>\n",
       "    <tr>\n",
       "      <th>0</th>\n",
       "      <td>ABW</td>\n",
       "      <td>Aruba</td>\n",
       "      <td>1963</td>\n",
       "      <td>12178.107</td>\n",
       "    </tr>\n",
       "    <tr>\n",
       "      <th>0</th>\n",
       "      <td>ABW</td>\n",
       "      <td>Aruba</td>\n",
       "      <td>1964</td>\n",
       "      <td>11840.743</td>\n",
       "    </tr>\n",
       "  </tbody>\n",
       "</table>\n",
       "</div>"
      ],
      "text/plain": [
       "  country_code country_name  year      value\n",
       "0          ABW        Aruba  1960  11092.675\n",
       "0          ABW        Aruba  1961  11576.719\n",
       "0          ABW        Aruba  1962  12713.489\n",
       "0          ABW        Aruba  1963  12178.107\n",
       "0          ABW        Aruba  1964  11840.743"
      ]
     },
     "execution_count": 4,
     "metadata": {},
     "output_type": "execute_result"
    }
   ],
   "source": [
    "#Visualizar os 5 primeiras linhas\n",
    "Conjunto.head(5)"
   ]
  },
  {
   "cell_type": "code",
   "execution_count": 5,
   "id": "9820cd36",
   "metadata": {},
   "outputs": [
    {
     "data": {
      "text/plain": [
       "(11403, 4)"
      ]
     },
     "execution_count": 5,
     "metadata": {},
     "output_type": "execute_result"
    }
   ],
   "source": [
    "#Verificando o shape do dataframe\n",
    "Conjunto.shape"
   ]
  },
  {
   "cell_type": "code",
   "execution_count": 6,
   "id": "edffb760",
   "metadata": {},
   "outputs": [
    {
     "name": "stdout",
     "output_type": "stream",
     "text": [
      "<class 'pandas.core.frame.DataFrame'>\n",
      "Int64Index: 11403 entries, 0 to 0\n",
      "Data columns (total 4 columns):\n",
      " #   Column        Non-Null Count  Dtype \n",
      "---  ------        --------------  ----- \n",
      " 0   country_code  11403 non-null  object\n",
      " 1   country_name  10659 non-null  object\n",
      " 2   year          10659 non-null  object\n",
      " 3   value         10659 non-null  object\n",
      "dtypes: object(4)\n",
      "memory usage: 445.4+ KB\n"
     ]
    }
   ],
   "source": [
    "#Obter informaçães do Dataframe\n",
    "Conjunto.info()"
   ]
  },
  {
   "cell_type": "code",
   "execution_count": 7,
   "id": "a9273197",
   "metadata": {},
   "outputs": [],
   "source": [
    "#Converter as colunas year e value para numeric \n",
    "Conjunto['year'] = pd.to_numeric(Conjunto['year'])\n",
    "Conjunto['value'] = pd.to_numeric(Conjunto['value'])"
   ]
  },
  {
   "cell_type": "code",
   "execution_count": 8,
   "id": "e5a04f71",
   "metadata": {},
   "outputs": [
    {
     "name": "stdout",
     "output_type": "stream",
     "text": [
      "<class 'pandas.core.frame.DataFrame'>\n",
      "Int64Index: 11403 entries, 0 to 0\n",
      "Data columns (total 4 columns):\n",
      " #   Column        Non-Null Count  Dtype  \n",
      "---  ------        --------------  -----  \n",
      " 0   country_code  11403 non-null  object \n",
      " 1   country_name  10659 non-null  object \n",
      " 2   year          10659 non-null  float64\n",
      " 3   value         10659 non-null  float64\n",
      "dtypes: float64(2), object(2)\n",
      "memory usage: 445.4+ KB\n"
     ]
    }
   ],
   "source": [
    "Conjunto.info()"
   ]
  },
  {
   "cell_type": "code",
   "execution_count": 9,
   "id": "fe599fad",
   "metadata": {},
   "outputs": [
    {
     "data": {
      "text/html": [
       "<div>\n",
       "<style scoped>\n",
       "    .dataframe tbody tr th:only-of-type {\n",
       "        vertical-align: middle;\n",
       "    }\n",
       "\n",
       "    .dataframe tbody tr th {\n",
       "        vertical-align: top;\n",
       "    }\n",
       "\n",
       "    .dataframe thead th {\n",
       "        text-align: right;\n",
       "    }\n",
       "</style>\n",
       "<table border=\"1\" class=\"dataframe\">\n",
       "  <thead>\n",
       "    <tr style=\"text-align: right;\">\n",
       "      <th></th>\n",
       "      <th>count</th>\n",
       "      <th>mean</th>\n",
       "      <th>std</th>\n",
       "      <th>min</th>\n",
       "      <th>25%</th>\n",
       "      <th>50%</th>\n",
       "      <th>75%</th>\n",
       "      <th>max</th>\n",
       "    </tr>\n",
       "  </thead>\n",
       "  <tbody>\n",
       "    <tr>\n",
       "      <th>year</th>\n",
       "      <td>10659.0</td>\n",
       "      <td>1991.044751</td>\n",
       "      <td>17.143850</td>\n",
       "      <td>1960.000</td>\n",
       "      <td>1976.000</td>\n",
       "      <td>1992.000000</td>\n",
       "      <td>2006.000000</td>\n",
       "      <td>2.019000e+03</td>\n",
       "    </tr>\n",
       "    <tr>\n",
       "      <th>value</th>\n",
       "      <td>10659.0</td>\n",
       "      <td>114877.837936</td>\n",
       "      <td>554094.823822</td>\n",
       "      <td>-80.674</td>\n",
       "      <td>608.722</td>\n",
       "      <td>5269.999981</td>\n",
       "      <td>41636.394666</td>\n",
       "      <td>1.070722e+07</td>\n",
       "    </tr>\n",
       "  </tbody>\n",
       "</table>\n",
       "</div>"
      ],
      "text/plain": [
       "         count           mean            std       min       25%          50%  \\\n",
       "year   10659.0    1991.044751      17.143850  1960.000  1976.000  1992.000000   \n",
       "value  10659.0  114877.837936  554094.823822   -80.674   608.722  5269.999981   \n",
       "\n",
       "                75%           max  \n",
       "year    2006.000000  2.019000e+03  \n",
       "value  41636.394666  1.070722e+07  "
      ]
     },
     "execution_count": 9,
     "metadata": {},
     "output_type": "execute_result"
    }
   ],
   "source": [
    "#Describe do conjunto de dados\n",
    "Conjunto.describe().T"
   ]
  },
  {
   "cell_type": "code",
   "execution_count": 10,
   "id": "b2ecd1f5",
   "metadata": {},
   "outputs": [
    {
     "data": {
      "text/plain": [
       "country_name\n",
       "United States         2.840366e+08\n",
       "China                 2.159975e+08\n",
       "Russian Federation    1.344118e+08\n",
       "Japan                 5.726082e+07\n",
       "India                 4.816875e+07\n",
       "United Kingdom        3.278625e+07\n",
       "Sub-Saharan Africa    2.720647e+07\n",
       "Canada                2.609352e+07\n",
       "Germany               2.436702e+07\n",
       "France                2.296071e+07\n",
       "Italy                 2.123551e+07\n",
       "Poland                1.994105e+07\n",
       "Mexico                1.748699e+07\n",
       "South Africa          1.668050e+07\n",
       "Australia             1.572238e+07\n",
       "Brazil                1.419491e+07\n",
       "Saudi Arabia          1.325895e+07\n",
       "Spain                 1.260676e+07\n",
       "Indonesia             1.253913e+07\n",
       "Ukraine               9.787780e+06\n",
       "Netherlands           8.917443e+06\n",
       "Turkiye               7.654740e+06\n",
       "Small states          7.510844e+06\n",
       "Romania               7.288650e+06\n",
       "Argentina             7.012356e+06\n",
       "Name: value, dtype: float64"
      ]
     },
     "execution_count": 10,
     "metadata": {},
     "output_type": "execute_result"
    }
   ],
   "source": [
    "#Os 25 países mais poluentes do mundo\n",
    "paises = Conjunto.groupby('country_name', sort = False)['value'].sum()\n",
    "paises = paises.nlargest(25)\n",
    "paises"
   ]
  },
  {
   "cell_type": "code",
   "execution_count": 11,
   "id": "d208ecf3",
   "metadata": {},
   "outputs": [
    {
     "data": {
      "text/plain": [
       "Text(0, 0.5, 'Emissão de CO2')"
      ]
     },
     "execution_count": 11,
     "metadata": {},
     "output_type": "execute_result"
    },
    {
     "data": {
      "image/png": "[encoded data removed]",
      "text/plain": [
       "<Figure size 864x432 with 1 Axes>"
      ]
     },
     "metadata": {
      "needs_background": "light"
     },
     "output_type": "display_data"
    }
   ],
   "source": [
    "# Plotando gráfico de barras dos 25 países mais poluentes do mundo\n",
    "plt.rcParams['figure.figsize']=(12,6)\n",
    "plt.barh(paises.index, paises, color='c', alpha=0.8)\n",
    "plt.title('Os 25 países mais emissores de CO2 do mundo (1960 - 2019)')\n",
    "plt.xlabel('Países')\n",
    "plt.ylabel('Emissão de CO2')"
   ]
  },
  {
   "cell_type": "code",
   "execution_count": 12,
   "id": "0c123ec1",
   "metadata": {},
   "outputs": [
    {
     "data": {
      "text/plain": [
       "year\n",
       "2019.0    3.348655e+07\n",
       "2018.0    3.336934e+07\n",
       "2017.0    3.260468e+07\n",
       "2014.0    3.236206e+07\n",
       "2013.0    3.225685e+07\n",
       "2016.0    3.218815e+07\n",
       "2015.0    3.215964e+07\n",
       "2012.0    3.157812e+07\n",
       "2011.0    3.113699e+07\n",
       "2010.0    3.017416e+07\n",
       "Name: value, dtype: float64"
      ]
     },
     "execution_count": 12,
     "metadata": {},
     "output_type": "execute_result"
    }
   ],
   "source": [
    "#Os 10 anos com maior emissão de CO2 por ano, de 1960 à 2019\n",
    "co2_emissao = Conjunto.groupby('year', sort = True)['value'].sum()\n",
    "co2_emissao.nlargest(10)"
   ]
  },
  {
   "cell_type": "code",
   "execution_count": 13,
   "id": "f847ab45",
   "metadata": {},
   "outputs": [
    {
     "data": {
      "text/plain": [
       "Text(0, 0.5, 'CO2 (kton)')"
      ]
     },
     "execution_count": 13,
     "metadata": {},
     "output_type": "execute_result"
    },
    {
     "data": {
      "image/png": "[encoded data removed]",
      "text/plain": [
       "<Figure size 864x432 with 1 Axes>"
      ]
     },
     "metadata": {
      "needs_background": "light"
     },
     "output_type": "display_data"
    }
   ],
   "source": [
    "# Plotando gráfico de emissão de CO2 ao longo do tempo, de 1960 à 2019\n",
    "plt.plot(co2_emissao.index, co2_emissao, color='m', alpha = 0.6)\n",
    "plt.title('Emissão de CO2 por ano no mundo (1960 - 2019)')\n",
    "plt.xlabel('Anos')\n",
    "plt.ylabel('CO2 (kton)')"
   ]
  },
  {
   "cell_type": "code",
   "execution_count": 14,
   "id": "c467ac1a",
   "metadata": {},
   "outputs": [],
   "source": [
    "# Exportando para arquivo .csv os 25 países mais emissores de CO2\n",
    "paises.to_csv('paises_co2.csv', sep=',')"
   ]
  },
  {
   "cell_type": "code",
   "execution_count": 15,
   "id": "1ca84565",
   "metadata": {},
   "outputs": [],
   "source": [
    "# Exportando para arquivo .csv os anos com maiores emissões de CO2\n",
    "co2_emissao.to_csv('anos_maiorEmissao.csv', sep=',')"
   ]
  },
  {
   "cell_type": "code",
   "execution_count": null,
   "id": "85158565",
   "metadata": {},
   "outputs": [],
   "source": []
  }
 ],
 "metadata": {
  "kernelspec": {
   "display_name": "Python 3 (ipykernel)",
   "language": "python",
   "name": "python3"
  },
  "language_info": {
   "codemirror_mode": {
    "name": "ipython",
    "version": 3
   },
   "file_extension": ".py",
   "mimetype": "text/x-python",
   "name": "python",
   "nbconvert_exporter": "python",
   "pygments_lexer": "ipython3",
   "version": "3.9.7"
  }
 },
 "nbformat": 4,
 "nbformat_minor": 5
}
